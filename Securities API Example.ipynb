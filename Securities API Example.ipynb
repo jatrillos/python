{
 "cells": [
  {
   "cell_type": "markdown",
   "metadata": {},
   "source": [
    "# How To: Retrieve Security Details for a list of Aladdin Identifiers"
   ]
  },
  {
   "cell_type": "markdown",
   "metadata": {},
   "source": [
    "The Securities API pulls security level details given a list of asset IDs. This guide will demonstrate how to pull security details for a given securities and store the results in a DataFrame."
   ]
  },
  {
   "cell_type": "markdown",
   "metadata": {},
   "source": [
    "### Imports, Credentials & Headers"
   ]
  },
  {
   "cell_type": "code",
   "execution_count": null,
   "metadata": {},
   "outputs": [],
   "source": [
    "#import libraries for API Calls / Data Analysis\n",
    "import uuid,datetime,requests,pprint,math\n",
    "import numpy as np\n",
    "import pandas as pd\n",
    "import matplotlib.pyplot as plt\n",
    "\n",
    "#set Client Environment (from url), Aladdin Username & Password, and APIkey here\n",
    "client_env = ''\n",
    "username = ''\n",
    "pwd = ''\n",
    "APIkey= ''\n",
    "\n",
    "today = datetime.date.today().strftime('%Y-%m-%d')\n",
    "        \n",
    "#function to generate unique headers when called\n",
    "def generate_headers():\n",
    "    headers = {\n",
    "        'VND.com.blackrock.API-Key': APIkey,\n",
    "        'VND.com.blackrock.Origin-Timestamp': str(datetime.datetime.utcnow().replace(microsecond=0).astimezone().isoformat()),\n",
    "        'VND.com.blackrock.Request-ID': str(uuid.uuid1())\n",
    "    }\n",
    "    return headers"
   ]
  },
  {
   "cell_type": "markdown",
   "metadata": {},
   "source": [
    "### Prepare API Parameters and Set URL"
   ]
  },
  {
   "cell_type": "code",
   "execution_count": null,
   "metadata": {},
   "outputs": [],
   "source": [
    "#set asset Id and asset type\n",
    "asset = '912810SS8,912810SU3'\n",
    "asset_type = 'CUSIP'\n",
    "\n",
    "#set paramaters for API call\n",
    "payload = {\n",
    "    'assetId': asset,\n",
    "    'assetIdType': asset_type\n",
    "}\n",
    "\n",
    "#url for security master data retrieval\n",
    "url = f'https://{client_env}.blackrock.com/api/reference-data/securities/v1/security-master'"
   ]
  },
  {
   "cell_type": "markdown",
   "metadata": {},
   "source": [
    "### Send API Request and Store Response"
   ]
  },
  {
   "cell_type": "code",
   "execution_count": null,
   "metadata": {},
   "outputs": [],
   "source": [
    "#make request to Securities API \n",
    "r = requests.get(url,auth=(username,pwd),params=payload,headers=generate_headers()).json()\n",
    "r"
   ]
  },
  {
   "cell_type": "markdown",
   "metadata": {},
   "source": [
    "### Convert Response to DataFrame"
   ]
  },
  {
   "cell_type": "code",
   "execution_count": null,
   "metadata": {},
   "outputs": [],
   "source": [
    "securities_list = []\n",
    "\n",
    "#loop through Securities results\n",
    "for asset, value in r['assetByAssetId'].items():\n",
    "    sec_type = list(value.keys())[1]\n",
    "    securities_list.append(value[sec_type])\n",
    "\n",
    "#convert to DataFrame\n",
    "secDF = pd.DataFrame(securities_list)\n",
    "\n",
    "#display select columns from DataFrame of retrieved securities\n",
    "secDF[['cusip','smSecGroup','smSecType','accrualDt','country','coupFreq']].reset_index(drop=True).head()"
   ]
  }
 ],
 "metadata": {
  "kernelspec": {
   "display_name": "Python 3",
   "language": "python",
   "name": "python3"
  },
  "language_info": {
   "codemirror_mode": {
    "name": "ipython",
    "version": 3
   },
   "file_extension": ".py",
   "mimetype": "text/x-python",
   "name": "python",
   "nbconvert_exporter": "python",
   "pygments_lexer": "ipython3",
   "version": "3.7.3"
  }
 },
 "nbformat": 4,
 "nbformat_minor": 4
}
