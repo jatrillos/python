{
 "cells": [
  {
   "cell_type": "markdown",
   "metadata": {},
   "source": [
    "## How To: Retrieve Trades for a Portfolio and Trade Date"
   ]
  },
  {
   "cell_type": "markdown",
   "metadata": {},
   "source": [
    "The Trades API retrieves trades by the Aladdin trade id, external trade ID, portfolio group, trade date, settlement date, or a combination of these parameters.\n",
    "\n",
    "The following demo retrieves trades by portfolio (group) and trade date, and stores the results in a DataFrame."
   ]
  },
  {
   "cell_type": "code",
   "execution_count": null,
   "metadata": {},
   "outputs": [],
   "source": [
    "#import libraries for API Calls / Data Analysis\n",
    "import uuid,datetime,requests,pprint,math\n",
    "import numpy as np\n",
    "import pandas as pd\n",
    "import matplotlib.pyplot as plt\n",
    "\n",
    "#set Client Environment (from url), Aladdin Username & Password, and APIkey here\n",
    "client_env = ''\n",
    "username = ''\n",
    "pwd = ''\n",
    "APIkey= ''\n",
    "\n",
    "today = datetime.date.today().strftime('%Y-%m-%d')\n",
    "        \n",
    "#function to generate unique headers when called\n",
    "def generate_headers():\n",
    "    headers = {\n",
    "        'VND.com.blackrock.API-Key': APIkey,\n",
    "        'VND.com.blackrock.Origin-Timestamp': str(datetime.datetime.utcnow().replace(microsecond=0).astimezone().isoformat()),\n",
    "        'VND.com.blackrock.Request-ID': str(uuid.uuid1())\n",
    "    }\n",
    "    return headers"
   ]
  },
  {
   "cell_type": "markdown",
   "metadata": {},
   "source": [
    "### Prepare API Parameters and Set URL"
   ]
  },
  {
   "cell_type": "code",
   "execution_count": null,
   "metadata": {},
   "outputs": [],
   "source": [
    "#set request parameters and URL\n",
    "fund = 'TST-TRD1'\n",
    "\n",
    "trades_payload = {\n",
    "    'portGroup': fund,\n",
    "    'tradeDate':today\n",
    "}\n",
    "\n",
    "url = f'https://{client_env}.blackrock.com/api/trading/trades/v1/trade'"
   ]
  },
  {
   "cell_type": "markdown",
   "metadata": {},
   "source": [
    "### Send API Request and Store Response"
   ]
  },
  {
   "cell_type": "code",
   "execution_count": null,
   "metadata": {},
   "outputs": [],
   "source": [
    "r = requests.get(url,auth=(username,pwd),params=trades_payload,headers=generate_headers()).json()\n",
    "r"
   ]
  },
  {
   "cell_type": "markdown",
   "metadata": {},
   "source": [
    "### Convert Response to DataFrame"
   ]
  },
  {
   "cell_type": "code",
   "execution_count": null,
   "metadata": {},
   "outputs": [],
   "source": [
    "#create allTrades DataFrame, loop through each Portfolio and add all Invnums to DataFrame\n",
    "allTrades = pd.DataFrame()\n",
    "for portfolio in r['tradeDataByPortfolioId']:\n",
    "    allTrades = allTrades.append(pd.DataFrame.from_dict(r['tradeDataByPortfolioId'][portfolio]['tradeRecordByInvnum'],orient='index').reset_index())\n",
    "\n",
    "#order columns in a logical manner \n",
    "allTrades = allTrades[['portfolioTicker','index','assetId','tradeDate','settleDate','tradeTranType','tradePrice','tradeQuantity','cptyId','cptyName','multiFundId','trader']].sort_values(by=['portfolioTicker','index']).reset_index(drop=True)\n",
    "allTrades.rename(columns={'index':'invnum'}, inplace=True)\n",
    " \n",
    "#print top 5 rows\n",
    "allTrades.head()"
   ]
  }
 ],
 "metadata": {
  "kernelspec": {
   "display_name": "Python 3",
   "language": "python",
   "name": "python3"
  },
  "language_info": {
   "codemirror_mode": {
    "name": "ipython",
    "version": 3
   },
   "file_extension": ".py",
   "mimetype": "text/x-python",
   "name": "python",
   "nbconvert_exporter": "python",
   "pygments_lexer": "ipython3",
   "version": "3.7.3"
  }
 },
 "nbformat": 4,
 "nbformat_minor": 4
}
